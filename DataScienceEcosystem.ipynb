{
 "cells": [
  {
   "cell_type": "markdown",
   "id": "f296cd04-96fd-4fae-baf5-754387436b65",
   "metadata": {},
   "source": [
    "# Data Science Tools and Ecosystem"
   ]
  },
  {
   "cell_type": "markdown",
   "id": "18fe25fd-cc14-46e3-83f6-1efcb393029b",
   "metadata": {},
   "source": [
    "In this notebook, Data Science Tools and Ecosystem are summarized."
   ]
  },
  {
   "cell_type": "markdown",
   "id": "bdc5d3ed-bde6-40ab-ae9e-d6b3872cf443",
   "metadata": {},
   "source": [
    "**Objectives**"
   ]
  },
  {
   "cell_type": "markdown",
   "id": "65ef541b-6c9e-4db2-a3ac-c20e4cc08cdb",
   "metadata": {},
   "source": [
    "- List popular languages for Data Science\n",
    "- List popular libraries for Data Science\n",
    "- List popular tools for Data Science"
   ]
  },
  {
   "cell_type": "markdown",
   "id": "ffa4843a-f459-4fb0-bf9d-959fac70be13",
   "metadata": {
    "tags": []
   },
   "source": [
    "Some of the popular languages that Data Scientists use are:"
   ]
  },
  {
   "cell_type": "markdown",
   "id": "17d6140f-b7d2-4009-9f22-85b08b7d551e",
   "metadata": {},
   "source": [
    "    1. Python\n",
    "    2. R\n",
    "    3. JavaScript"
   ]
  },
  {
   "cell_type": "markdown",
   "id": "ebf23bd5-e987-4165-8548-31dbb35f5842",
   "metadata": {},
   "source": [
    "Some of the commonly used libraries used by Data Scientists include:"
   ]
  },
  {
   "cell_type": "markdown",
   "id": "27dbfca8-acb6-4ec3-aa3c-d33b345b82b8",
   "metadata": {},
   "source": [
    "1. Numpy\n",
    "2. Pandas\n",
    "3. Matplotlib"
   ]
  },
  {
   "cell_type": "markdown",
   "id": "4168842f-116c-4347-8db7-6b2fbf994b53",
   "metadata": {},
   "source": [
    "|Data Science Tools|\n",
    "|------------------|\n",
    "|Jupyter Notebook|\n",
    "|GitHub|\n",
    "|RStudio|"
   ]
  },
  {
   "cell_type": "markdown",
   "id": "7b95df74-899d-4a22-9066-ec7bdc8b72a8",
   "metadata": {},
   "source": [
    "Below are a few examples of evaluating arithmetic expressions in Python"
   ]
  },
  {
   "cell_type": "code",
   "execution_count": 2,
   "id": "c6f9cd78-d7ab-4043-81a6-d0b34f380181",
   "metadata": {
    "tags": []
   },
   "outputs": [
    {
     "data": {
      "text/plain": [
       "17"
      ]
     },
     "execution_count": 2,
     "metadata": {},
     "output_type": "execute_result"
    }
   ],
   "source": [
    "#This a simple arithmetic expression to mutiply then add integers.\n",
    "(3*4)+5"
   ]
  },
  {
   "cell_type": "code",
   "execution_count": 3,
   "id": "7e85d681-3d6e-45c0-9add-d34c503db780",
   "metadata": {
    "tags": []
   },
   "outputs": [
    {
     "data": {
      "text/plain": [
       "3.3333333333333335"
      ]
     },
     "execution_count": 3,
     "metadata": {},
     "output_type": "execute_result"
    }
   ],
   "source": [
    "#This will convert 200 minutes to hours by diving by 60.\n",
    "200/60"
   ]
  },
  {
   "cell_type": "markdown",
   "id": "c0a728b2-6f88-4275-a7db-2627f79646ef",
   "metadata": {},
   "source": [
    "## Author\n",
    "\n",
    "A. U."
   ]
  },
  {
   "cell_type": "code",
   "execution_count": null,
   "id": "470142b1-2145-4d21-9451-64b342e4a7bd",
   "metadata": {},
   "outputs": [],
   "source": []
  }
 ],
 "metadata": {
  "kernelspec": {
   "display_name": "Python",
   "language": "python",
   "name": "conda-env-python-py"
  },
  "language_info": {
   "codemirror_mode": {
    "name": "ipython",
    "version": 3
   },
   "file_extension": ".py",
   "mimetype": "text/x-python",
   "name": "python",
   "nbconvert_exporter": "python",
   "pygments_lexer": "ipython3",
   "version": "3.7.12"
  }
 },
 "nbformat": 4,
 "nbformat_minor": 5
}
